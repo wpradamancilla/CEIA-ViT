import torch
from sklearn.metrics import classification_report

# Asegúrate de tener tu modelo cargado y el test_dataloader configurado correctamente
device = 'cuda' if torch.cuda.is_available() else 'cpu'
model_new.to(device)

# Listas para almacenar predicciones y etiquetas verdaderas
all_predictions = []
all_labels = []

# Evalúa el modelo
model_new.eval()  # Configura el modelo en modo de evaluación
with torch.no_grad():
    for batch in test_dataloader:
        pixel_values = batch['pixel_values'].float()
        labels = batch['label']
        
        # Realiza la inferencia
        outputs = model_new(pixel_values=pixel_values.to(device))
        predictions = torch.argmax(outputs.logits, dim=-1)
        
        # Almacena las predicciones y etiquetas verdaderas
        all_predictions.extend(predictions.cpu().numpy())
        all_labels.extend(labels.numpy())

# Calcula el reporte de clasificación
report = classification_report(all_labels, all_predictions, target_names=class_names, digits=4)
print(report)
